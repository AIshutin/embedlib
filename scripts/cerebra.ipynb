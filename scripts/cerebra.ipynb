{
  "nbformat": 4,
  "nbformat_minor": 0,
  "metadata": {
    "colab": {
      "name": "cerebra.ipynb",
      "provenance": [],
      "collapsed_sections": []
    },
    "kernelspec": {
      "name": "python3",
      "display_name": "Python 3"
    },
    "accelerator": "GPU"
  },
  "cells": [
    {
      "cell_type": "markdown",
      "metadata": {
        "id": "lWh_jUo4ywRc",
        "colab_type": "text"
      },
      "source": [
        "Zip embedlib\n",
        "upload embedlib.zip, scripts/train.py, your_dataset.txt, scripts/colab_tpu.sh, setup.py"
      ]
    },
    {
      "cell_type": "code",
      "metadata": {
        "id": "ONAaM5eB73N_",
        "colab_type": "code",
        "colab": {}
      },
      "source": [
        "from google.colab import drive\n",
        "drive.mount('/content/gdrive')\n",
        "\n",
        "!cp /content/gdrive/'My Drive'/corp.txt .\n",
        "!cp -r /content/gdrive/'My Drive'/pretrained-bert-base-uncased ."
      ],
      "execution_count": 0,
      "outputs": []
    },
    {
      "cell_type": "code",
      "metadata": {
        "id": "OfWbRpewJ-5i",
        "colab_type": "code",
        "colab": {}
      },
      "source": [
        "!rm -r embedlib.zip libs/embedlib"
      ],
      "execution_count": 0,
      "outputs": []
    },
    {
      "cell_type": "code",
      "metadata": {
        "id": "yyQ2JqpWQ6R5",
        "colab_type": "code",
        "colab": {}
      },
      "source": [
        "!rm -r scripts/train.py"
      ],
      "execution_count": 0,
      "outputs": []
    },
    {
      "cell_type": "code",
      "metadata": {
        "id": "Q78krRxJ06x6",
        "colab_type": "code",
        "colab": {}
      },
      "source": [
        "from google.colab import files\n",
        "uploaded = files.upload()\n",
        "\n",
        "import io\n",
        "import os\n",
        "def save_file(stream, location):\n",
        "  stream = io.BytesIO(stream)\n",
        "  os.remove(location)\n",
        "  with open(location,'wb') as out: ## Open temporary file as bytes\n",
        "    out.write(stream.read()) \n",
        "\n",
        "for el in uploaded:\n",
        "  save_file(uploaded[el], el)\n",
        "print(uploaded.keys())\n",
        "!ls\n"
      ],
      "execution_count": 0,
      "outputs": []
    },
    {
      "cell_type": "code",
      "metadata": {
        "id": "rN_fTrHw1NJp",
        "colab_type": "code",
        "colab": {}
      },
      "source": [
        "!unzip *.zip\n",
        "!rm -r libs\n",
        "!mkdir libs\n",
        "!mv embedlib libs\n",
        "!mv pretrained-bert-base-uncased libs\n",
        "!mv setup.py libs\n",
        "!cp corp.txt libs\n",
        "!mkdir scripts\n",
        "!mv train.py scripts/"
      ],
      "execution_count": 0,
      "outputs": []
    },
    {
      "cell_type": "code",
      "metadata": {
        "id": "8RcTaDTC-iql",
        "colab_type": "code",
        "colab": {}
      },
      "source": [
        "!pip uninstall embedlib"
      ],
      "execution_count": 0,
      "outputs": []
    },
    {
      "cell_type": "code",
      "metadata": {
        "id": "iLL0IX2c8g4i",
        "colab_type": "code",
        "colab": {}
      },
      "source": [
        "!bash colab_tpu.sh"
      ],
      "execution_count": 0,
      "outputs": []
    }
  ]
}